{
 "cells": [
  {
   "cell_type": "code",
   "execution_count": 2,
   "id": "da6fef28",
   "metadata": {},
   "outputs": [],
   "source": [
    "import numpy as np\n",
    "import speech_recognition as sr\n",
    "from gtts import gTTS\n",
    "import os\n",
    "import datetime\n",
    "import transformers \n",
    "from transformers import pipeline\n",
    "\n"
   ]
  },
  {
   "cell_type": "code",
   "execution_count": 3,
   "id": "149df8a3",
   "metadata": {
    "scrolled": true
   },
   "outputs": [],
   "source": [
    "# Beginning of the AI\n",
    "class ChatBot():\n",
    "    def __init__(self, name):\n",
    "        print(\"----- starting up\", name, \"-----\")\n",
    "        self.name = name\n",
    "\n",
    "    def speech_to_text(self):\n",
    "      recognizer = sr.Recognizer()\n",
    "      with sr.Microphone() as mic:\n",
    "        print(\"listening...\")\n",
    "        try:\n",
    "            audio = recognizer.listen(mic)\n",
    "            self.text = recognizer.recognize_google(audio)\n",
    "            print(\"me -->\", self.text)\n",
    "            return self.text\n",
    "        except sr.UnknownValueError:\n",
    "            print(\"Balu(AI) --> Couldn't understand audio\")\n",
    "            return \"\"\n",
    "        except sr.RequestError as e:\n",
    "            print(f\"Balu(AI) --> Error connecting to Google API; {e}\")\n",
    "            return \"\"\n",
    "            \n",
    "    def wake_up(self, text):\n",
    "       return True if self.name.lower() in text.lower() else False           \n",
    "    @staticmethod\n",
    "    def text_to_speech(text):\n",
    "      print(\"AI --> \", text)\n",
    "      speaker = gTTS(text=text, lang=\"en\", slow=False)\n",
    "      speaker.save(\"res.mp3\")\n",
    "      os.system(\"start res.mp3\")  #if you have a macbook->afplay or for windows use->start\n",
    "      os.remove(\"res.mp3\")\n",
    "    def action_time(self):\n",
    "      return datetime.datetime.now().time().strftime('%H:%M')\n",
    "     #and run the script after adding the above function to the AI class\n",
    "    \n",
    "    \n",
    "\n",
    "            \n",
    "            "
   ]
  },
  {
   "cell_type": "code",
   "execution_count": null,
   "id": "f16dcbd6",
   "metadata": {},
   "outputs": [
    {
     "name": "stdout",
     "output_type": "stream",
     "text": [
      "----- starting up Balu -----\n"
     ]
    },
    {
     "name": "stderr",
     "output_type": "stream",
     "text": [
      "All model checkpoint layers were used when initializing TFGPT2LMHeadModel.\n",
      "\n",
      "All the layers of TFGPT2LMHeadModel were initialized from the model checkpoint at microsoft/DialoGPT-medium.\n",
      "If your task is similar to the task the model of the checkpoint was trained on, you can already use TFGPT2LMHeadModel for predictions without further training.\n"
     ]
    },
    {
     "name": "stdout",
     "output_type": "stream",
     "text": [
      "listening...\n"
     ]
    }
   ],
   "source": [
    "if __name__ == \"__main__\":\n",
    "    ai = ChatBot(name=\"Balu\")\n",
    "    nlp = transformers.pipeline(\"conversational\", model=\"microsoft/DialoGPT-medium\")\n",
    "    os.environ[\"TOKENIZERS_PARALLELISM\"] = \"true\"\n",
    "    ex = True\n",
    "    while ex:\n",
    "        text = ai.speech_to_text()\n",
    "        \n",
    "        # Initialize res outside the wake-up block\n",
    "        res = \"\"\n",
    "\n",
    "        # Wake up\n",
    "        if ai.wake_up(text):\n",
    "            res = \"Hello, I am Balu(AI). What can I do for you?\"\n",
    "                        \n",
    "     ## answering time\n",
    "        elif \"time\" in ai.text:\n",
    "            res = ai.action_time()\n",
    "     ## respond politely\n",
    "        elif any(i in ai.text for i in [\"thank\",\"thanks\"]):\n",
    "            res = np.random.choice(\n",
    "                  [\"you're welcome!\",\"anytime!\",\n",
    "                   \"no problem!\",\"cool!\",\n",
    "                   \"I'm here if you need me!\",\"peace out!\"])\n",
    "      ##exiting chatbot      \n",
    "        elif any(i in ai.text for i in [\"exit\",\"close\"]):\n",
    "            res = np.random.choice([\"Tata\",\"Have a good day\",\"Bye\",\"Goodbye\",\"Hope to meet soon\",\"peace out!\"])\n",
    "            ex=False \n",
    "        else:   \n",
    "            if ai.text==\"Couldn't understand audio\":\n",
    "                res=\"Sorry, come again?\"\n",
    "            else:\n",
    "                chat = nlp(transformers.Conversation(ai.text), pad_token_id=50256)\n",
    "                res = str(chat)\n",
    "                res = res[res.find(\"bot >> \")+6:].strip()\n",
    "\n",
    "        if res:\n",
    "              ai.text_to_speech(res)\n",
    "    print(\"----- Closing down Balu -----\")    \n",
    "                \n",
    "                \n"
   ]
  }
 ],
 "metadata": {
  "kernelspec": {
   "display_name": "Python 3 (ipykernel)",
   "language": "python",
   "name": "python3"
  },
  "language_info": {
   "codemirror_mode": {
    "name": "ipython",
    "version": 3
   },
   "file_extension": ".py",
   "mimetype": "text/x-python",
   "name": "python",
   "nbconvert_exporter": "python",
   "pygments_lexer": "ipython3",
   "version": "3.11.4"
  }
 },
 "nbformat": 4,
 "nbformat_minor": 5
}
